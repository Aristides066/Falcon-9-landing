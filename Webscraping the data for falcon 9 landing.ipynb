{
 "cells": [
  {
   "cell_type": "markdown",
   "id": "a8a793cc-51b9-4e3e-894b-6d30e5350db8",
   "metadata": {},
   "source": [
    "### Space X FAlcon 9 landing prediction"
   ]
  },
  {
   "cell_type": "markdown",
   "id": "d66032bd-e081-4457-ac8f-455b94dff68a",
   "metadata": {},
   "source": [
    "### Web scraping Falcon 9 and Falcon Heavy Launches Records from Wikipedia"
   ]
  },
  {
   "cell_type": "markdown",
   "id": "93684dbb-26a8-45a7-8924-3565563100f9",
   "metadata": {},
   "source": [
    "In this lab, we will be performing web scraping to collect Falcon 9 historical launch records from a Wikipedia page titled List of Falcon 9 and Falcon Heavy launches\n",
    "\n",
    "https://en.wikipedia.org/wiki/List_of_Falcon_9_and_Falcon_Heavy_launches"
   ]
  },
  {
   "cell_type": "markdown",
   "id": "9a00dac0-ab73-4bf7-884a-eb82585d0070",
   "metadata": {},
   "source": [
    "## Objectives \n"
   ]
  },
  {
   "cell_type": "markdown",
   "id": "122bc0dc-5f91-4cbd-847a-49c2f03788cb",
   "metadata": {},
   "source": [
    "###  Web Scraping Falcon 9 Launch Records with BeautifulSoup\n",
    "\n",
    "• Extract the Falcon 9 launch records HTML table from Wikipedia  \n",
    "• Parse the HTML table using BeautifulSoup  \n",
    "• Convert the parsed table into a Pandas DataFrame\n",
    "\n"
   ]
  },
  {
   "cell_type": "code",
   "execution_count": 3,
   "id": "822e5e64-893a-42e6-955a-71b41e4013f5",
   "metadata": {},
   "outputs": [],
   "source": [
    "import sys\n",
    "import requests\n",
    "from bs4 import BeautifulSoup\n",
    "import re\n",
    "import pandas as pd \n",
    "import unicodedata"
   ]
  },
  {
   "cell_type": "code",
   "execution_count": 5,
   "id": "186b1df1-a9a3-4fdf-a11c-33503cb4e4e3",
   "metadata": {},
   "outputs": [],
   "source": [
    "static_url = \"https://en.wikipedia.org/w/index.php?title=List_of_Falcon_9_and_Falcon_Heavy_launches&oldid=1027686922\""
   ]
  },
  {
   "cell_type": "code",
   "execution_count": 9,
   "id": "ab1fd12c-4f10-4a5a-b920-fa3ff996d81c",
   "metadata": {},
   "outputs": [
    {
     "name": "stdout",
     "output_type": "stream",
     "text": [
      "Page fetched successfully!\n"
     ]
    }
   ],
   "source": [
    "#perform an HTTP GET request\n",
    "response=requests.get(static_url)\n",
    "#check if the request was successful \n",
    "if response.status_code==200:\n",
    "    print(\"Page fetched successfully!\")\n",
    "    html_content = response.text  \n",
    "else:\n",
    "    print(f\"Failed to retrieve page, status code: {response.status_code}\")"
   ]
  },
  {
   "cell_type": "code",
   "execution_count": 10,
   "id": "b63876f1-2bd4-4a0b-95c3-1f3ea195eeae",
   "metadata": {},
   "outputs": [
    {
     "name": "stdout",
     "output_type": "stream",
     "text": [
      "List of Falcon 9 and Falcon Heavy launches - Wikipedia\n"
     ]
    }
   ],
   "source": [
    "# Create a BeautifulSoup object from the HTML content\n",
    "soup = BeautifulSoup(html_content, 'html.parser')\n",
    "\n",
    "#  Preview the page title to verify parsing\n",
    "print(soup.title.text)"
   ]
  },
  {
   "cell_type": "markdown",
   "id": "be498c55-0fd8-4e9a-9d4f-ffa1ad1226ba",
   "metadata": {},
   "source": [
    "### Extract all column /variable names from the HTML table header"
   ]
  },
  {
   "cell_type": "code",
   "execution_count": 11,
   "id": "7c8cd5a6-9abb-4fbe-9c49-141fc88d0997",
   "metadata": {},
   "outputs": [
    {
     "name": "stdout",
     "output_type": "stream",
     "text": [
      "Total tables found: 25\n",
      "<table class=\"wikitable plainrowheaders collapsible\" style=\"width: 100%;\">\n",
      " <tbody>\n",
      "  <tr>\n",
      "   <th scope=\"col\">\n",
      "    Flight No.\n",
      "   </th>\n",
      "   <th scope=\"col\">\n",
      "    Date and\n",
      "    <br/>\n",
      "    time (\n",
      "    <a href=\"/wiki/Coordinated_Universal_Time\" title=\"Coordinated Universal Time\">\n",
      "     UTC\n",
      "    </a>\n",
      "    )\n",
      "   </th>\n",
      "   <th scope=\"col\">\n",
      "    <a href=\"/wiki/List_of_Falcon_9_first-stage_boosters\" title=\"List of Falcon 9 first-stage boosters\">\n",
      "     Version,\n",
      "     <br/>\n",
      "     Booster\n",
      "    </a>\n",
      "    <sup class=\"reference\" id=\"cite_ref-booster_11-0\">\n",
      "     <a href=\"#cite_note-booster-11\">\n",
      "      <span class=\"cite-bracket\">\n",
      "       [\n",
      "      </span>\n",
      "      b\n",
      "      <span class=\"cite-bracket\">\n",
      "       ]\n",
      "      </span>\n",
      "     </a>\n",
      "    </sup>\n",
      "   </th>\n",
      "   <th scope=\"col\">\n",
      "    Launch site\n",
      "   </th>\n",
      "   <th scope=\"col\">\n",
      "    Payload\n",
      "    <sup class=\"reference\" id=\"cite_ref-Dragon_12-0\">\n",
      "     <a href=\"#cite_note-Dragon-12\">\n",
      "      <span class=\"cite-bracket\">\n",
      "       [\n",
      "      </span>\n",
      "      c\n",
      "      <span class=\"cite-bracket\">\n",
      "       ]\n",
      "      </span>\n",
      "     </a>\n",
      "    </sup>\n",
      "   </th>\n",
      "   <th scope=\"col\">\n",
      "    Payload mass\n",
      "   </th>\n",
      "   <th scope=\"col\">\n",
      "    Orbit\n",
      "   </th>\n",
      "   <th scope=\"col\">\n",
      "    Customer\n",
      "   </th>\n",
      "   <th scope=\"col\">\n",
      "    Launch\n",
      "    <br/>\n",
      "    outcome\n",
      "   </th>\n",
      "   <th scope=\"col\">\n",
      "    <a href=\"/wiki/Falcon_9_first-stage_landing_tests\" title=\"Falcon 9 first-stage landing tests\">\n",
      "     Booster\n",
      "     <br/>\n",
      "     landing\n",
      "    </a>\n",
      "   </th>\n",
      "  </tr>\n",
      "  <tr>\n",
      "   <th rowspan=\"2\" scope=\"row\" style=\"text-align:center;\">\n",
      "    1\n",
      "   </th>\n",
      "   <td>\n",
      "    4 June 2010,\n",
      "    <br/>\n",
      "    18:45\n",
      "   </td>\n",
      "   <td>\n",
      "    <a href=\"/wiki/Falcon_9_v1.0\" title=\"Falcon 9 v1.0\">\n",
      "     F9 v1.0\n",
      "    </a>\n",
      "    <sup class=\"reference\" id=\"cite_ref-MuskMay2012_13-0\">\n",
      "     <a href=\"#cite_note-MuskMay2012-13\">\n",
      "      <span class=\"cite-bracket\">\n",
      "       [\n",
      "      </span>\n",
      "      7\n",
      "      <span class=\"cite-bracket\">\n",
      "       ]\n",
      "      </span>\n",
      "     </a>\n",
      "    </sup>\n",
      "    <br/>\n",
      "    B0003.1\n",
      "    <sup class=\"reference\" id=\"cite_ref-block_numbers_14-0\">\n",
      "     <a href=\"#cite_note-block_numbers-14\">\n",
      "      <span class=\"cite-bracket\">\n",
      "       [\n",
      "      </span>\n",
      "      8\n",
      "      <span class=\"cite-bracket\">\n",
      "       ]\n",
      "      </span>\n",
      "     </a>\n",
      "    </sup>\n",
      "   </td>\n",
      "   <td>\n",
      "    <a href=\"/wiki/Cape_Canaveral_Space_Force_Station\" title=\"Cape Canaveral Space Force Station\">\n",
      "     CCAFS\n",
      "    </a>\n",
      "    ,\n",
      "    <br/>\n",
      "    <a href=\"/wiki/Cape_Canaveral_Space_Launch_Complex_40\" title=\"Cape Canaveral Space Launch Complex 40\">\n",
      "     SLC-40\n",
      "    </a>\n",
      "   </td>\n",
      "   <td>\n",
      "    <a href=\"/wiki/Dragon_Spacecraft_Qualification_Unit\" title=\"Dragon Spacecraft Qualification Unit\">\n",
      "     Dragon Spacecraft Qualification Unit\n",
      "    </a>\n",
      "   </td>\n",
      "   <td>\n",
      "   </td>\n",
      "   <td>\n",
      "    <a href=\"/wiki/Low_Earth_orbit\" title=\"Low Earth orbit\">\n",
      "     LEO\n",
      "    </a>\n",
      "   </td>\n",
      "   <td>\n",
      "    <a href=\"/wiki/SpaceX\" title=\"SpaceX\">\n",
      "     SpaceX\n",
      "    </a>\n",
      "   </td>\n",
      "   <td class=\"table-success\" style=\"background: #9EFF9E; color:black; vertical-align: middle; text-align: center;\">\n",
      "    Success\n",
      "   </td>\n",
      "   <td class=\"table-failure\" style=\"background: #FFC7C7; col\n"
     ]
    }
   ],
   "source": [
    "# Step 1: Find all <table> elements in the page\n",
    "html_tables = soup.find_all(\"table\")\n",
    "\n",
    "# Step 2: Check how many tables were found \n",
    "print(f\"Total tables found: {len(html_tables)}\")\n",
    "\n",
    "# Step 3: Print the third table (index 2) to inspect its content\n",
    "# This is usually the first Falcon 9 launch record table\n",
    "target_table = html_tables[2]\n",
    "print(target_table.prettify()[:3000]) "
   ]
  },
  {
   "cell_type": "code",
   "execution_count": 14,
   "id": "b0885c11-5af4-4fb2-8490-fcae8ec8d26e",
   "metadata": {},
   "outputs": [
    {
     "name": "stdout",
     "output_type": "stream",
     "text": [
      "['Flight No.', 'Date andtime (UTC)', 'Version,Booster [b]', 'Launch site', 'Payload[c]', 'Payload mass', 'Orbit', 'Customer', 'Launchoutcome', 'Boosterlanding', 'Flight No.', 'Date andtime (UTC)', 'Version,Booster [b]', 'Launch site', 'Payload[c]', 'Payload mass', 'Orbit', 'Customer', 'Launchoutcome', 'Boosterlanding', 'Flight No.', 'Date andtime (UTC)', 'Version,Booster [b]', 'Launch site', 'Payload[c]', 'Payload mass', 'Orbit', 'Customer', 'Launchoutcome', 'Boosterlanding', '1', '2', '3', '4', '5', '6', '7']\n"
     ]
    }
   ],
   "source": [
    "# Define or use the provided helper function\n",
    "def extract_column_from_header(th):\n",
    "    \"\"\"Extracts clean column name from a <th> element.\"\"\"\n",
    "    if th.text:\n",
    "        return th.text.strip()\n",
    "    return None\n",
    "\n",
    "# Step 1: Initialize the list to store column names\n",
    "column_names = [col for col in column_names if not col.strip().isdigit()]\n",
    "\n",
    "# Step 2: Find all <th> elements in the table\n",
    "th_elements = target_table.find_all(\"th\")\n",
    "\n",
    "# Step 3: Extract column names\n",
    "for th in th_elements:\n",
    "    name = extract_column_from_header(th)\n",
    "    if name is not None and len(name) > 0:\n",
    "        column_names.append(name)\n",
    "\n",
    "# Step 4: Check the extracted column names\n",
    "print(column_names)"
   ]
  },
  {
   "cell_type": "code",
   "execution_count": 15,
   "id": "4111e64a-6127-4fb9-8cd3-d985156b5cc1",
   "metadata": {},
   "outputs": [
    {
     "name": "stdout",
     "output_type": "stream",
     "text": [
      "['Flight No.', 'Date and time (UTC)', 'Version Booster', 'Launch site', 'Payload', 'Payload mass', 'Orbit', 'Customer', 'Launch outcome', 'Booster landing']\n"
     ]
    }
   ],
   "source": [
    "# Your current messy column_names list\n",
    "raw_column_names = ['Flight No.', 'Date andtime (UTC)', 'Version,Booster [b]', 'Launch site', 'Payload[c]', \n",
    "                    'Payload mass', 'Orbit', 'Customer', 'Launchoutcome', 'Boosterlanding',\n",
    "                    'Flight No.', 'Date andtime (UTC)', 'Version,Booster [b]', 'Launch site', 'Payload[c]', \n",
    "                    'Payload mass', 'Orbit', 'Customer', 'Launchoutcome', 'Boosterlanding',\n",
    "                    'Flight No.', 'Date andtime (UTC)', 'Version,Booster [b]', 'Launch site', 'Payload[c]', \n",
    "                    'Payload mass', 'Orbit', 'Customer', 'Launchoutcome', 'Boosterlanding',\n",
    "                    '1', '2', '3', '4', '5', '6', '7']\n",
    "\n",
    "# Step 1: Remove duplicates and numeric values\n",
    "cleaned_columns = []\n",
    "for col in raw_column_names:\n",
    "    col = col.strip()\n",
    "    if not col.isdigit() and col not in cleaned_columns:\n",
    "        cleaned_columns.append(col)\n",
    "\n",
    "# Step 2: Fix typos and rename for clarity\n",
    "column_renames = {\n",
    "    'Date andtime (UTC)': 'Date and time (UTC)',\n",
    "    'Version,Booster [b]': 'Version Booster',\n",
    "    'Payload[c]': 'Payload',\n",
    "    'Launchoutcome': 'Launch outcome',\n",
    "    'Boosterlanding': 'Booster landing'\n",
    "}\n",
    "\n",
    "# Apply renaming\n",
    "final_column_names = [column_renames.get(col, col) for col in cleaned_columns]\n",
    "\n",
    "# Step 3: Preview result\n",
    "print(final_column_names)\n"
   ]
  },
  {
   "cell_type": "markdown",
   "id": "f8f4cd26-8066-4b9d-85b8-2874e91a3967",
   "metadata": {},
   "source": [
    "### Create a dataframe by parsing the Launc  HTML tables"
   ]
  },
  {
   "cell_type": "markdown",
   "id": "537d02aa-b3fd-4575-ac0e-752f28a8d091",
   "metadata": {},
   "source": [
    "In this step we will we will prepare a structureed dictionary to store cleaned launch data extracted from Falcon 9 launch table\n",
    "\n"
   ]
  },
  {
   "cell_type": "code",
   "execution_count": 19,
   "id": "2335813b-b7b8-40e7-8a9d-22f35295cef7",
   "metadata": {},
   "outputs": [],
   "source": [
    "#create a dictiionary with column names \n",
    "launch_dict=dict.fromkeys(column_names)\n",
    "\n",
    "\n",
    "# let's initialize the keys\n",
    "# Let's initial the launch_dict with each value to be an empty list\n",
    "launch_dict['Flight No.'] = []\n",
    "launch_dict['Launch site'] = []\n",
    "launch_dict['Payload'] = []\n",
    "launch_dict['Payload mass'] = []\n",
    "launch_dict['Orbit'] = []\n",
    "launch_dict['Customer'] = []\n",
    "launch_dict['Launch outcome'] = []\n",
    "# Added some new columns\n",
    "launch_dict['Version Booster']=[]\n",
    "launch_dict['Booster landing']=[]\n",
    "launch_dict['Date']=[]\n",
    "launch_dict['Time']=[]"
   ]
  },
  {
   "cell_type": "code",
   "execution_count": 27,
   "id": "0f7d3f0d-b52c-4ed5-b6cd-0d64ced905e5",
   "metadata": {},
   "outputs": [
    {
     "name": "stdout",
     "output_type": "stream",
     "text": [
      " Extracted and saved 121 launch records to spacex_web_scraped.csv\n"
     ]
    }
   ],
   "source": [
    "\n",
    "\n",
    "\n",
    "from bs4 import BeautifulSoup\n",
    "import pandas as pd\n",
    "import unicodedata\n",
    "\n",
    "# --- Helper Functions ---\n",
    "def date_time(table_cells):\n",
    "    strings = [dt.strip() for dt in list(table_cells.strings) if dt.strip()]\n",
    "    return strings[:2] if len(strings) >= 2 else [strings[0], \"\"]\n",
    "\n",
    "def booster_version(table_cells):\n",
    "    parts = [booster.strip() for i, booster in enumerate(table_cells.strings) if i % 2 == 0]\n",
    "    return ''.join(parts[:-1]) if len(parts) > 1 else ''.join(parts)\n",
    "\n",
    "def landing_status(table_cells):\n",
    "    strings = [s.strip() for s in table_cells.strings if s.strip()]\n",
    "    return strings[0] if strings else 'N/A'\n",
    "\n",
    "def get_mass(table_cells):\n",
    "    mass = unicodedata.normalize(\"NFKD\", table_cells.text).strip()\n",
    "    return mass[:mass.find(\"kg\")+2].strip() if \"kg\" in mass else \"0\"\n",
    "\n",
    "\n",
    "\n",
    "# --- Initialize dictionary ---\n",
    "launch_dict = {\n",
    "    'Flight No.': [], 'Date': [], 'Time': [], 'Version Booster': [],\n",
    "    'Launch Site': [], 'Payload': [], 'Payload mass': [], 'Orbit': [],\n",
    "    'Customer': [], 'Launch outcome': [], 'Booster landing': []\n",
    "}\n",
    "\n",
    "extracted_row = 0\n",
    "\n",
    "# --- Extract data ---\n",
    "for table in soup.find_all('table', \"wikitable plainrowheaders collapsible\"):\n",
    "    for rows in table.find_all(\"tr\"):\n",
    "        flag = False\n",
    "        if rows.th and rows.th.string:\n",
    "            flight_number = rows.th.string.strip()\n",
    "            flag = flight_number.isdigit()\n",
    "\n",
    "        row = rows.find_all('td')\n",
    "        if flag:\n",
    "            extracted_row += 1\n",
    "\n",
    "            launch_dict['Flight No.'].append(flight_number)\n",
    "            date, time = date_time(row[0])\n",
    "            launch_dict['Date'].append(date.strip(','))\n",
    "            launch_dict['Time'].append(time)\n",
    "\n",
    "            bv = booster_version(row[1]) or (row[1].a.string if row[1].a else \"\")\n",
    "            launch_dict['Version Booster'].append(bv)\n",
    "\n",
    "            launch_dict['Launch Site'].append(row[2].a.string if row[2].a else row[2].text.strip())\n",
    "            launch_dict['Payload'].append(row[3].a.string if row[3].a else row[3].text.strip())\n",
    "            launch_dict['Payload mass'].append(get_mass(row[4]))\n",
    "            launch_dict['Orbit'].append(row[5].a.string if row[5].a else row[5].text.strip())\n",
    "            launch_dict['Customer'].append(row[6].a.string if row[6].a else row[6].text.strip())\n",
    "            launch_dict['Launch outcome'].append(list(row[7].strings)[0].strip())\n",
    "            launch_dict['Booster landing'].append(landing_status(row[8]))\n",
    "\n",
    "# --- Save to CSV ---\n",
    "df = pd.DataFrame(launch_dict)\n",
    "df.to_csv(\"spacex_web_scraped.csv\", index=False)\n",
    "print(f\" Extracted and saved {extracted_row} launch records to spacex_web_scraped.csv\")\n"
   ]
  },
  {
   "cell_type": "code",
   "execution_count": 28,
   "id": "d95f4f58-a366-4358-bb10-5eada7903eda",
   "metadata": {},
   "outputs": [],
   "source": [
    "df= pd.DataFrame({ key:pd.Series(value) for key, value in launch_dict.items() })"
   ]
  },
  {
   "cell_type": "code",
   "execution_count": 29,
   "id": "674add4a-8064-4460-98d7-2ac217249218",
   "metadata": {},
   "outputs": [],
   "source": [
    "df.to_csv('spacex_web_scraped.csv', index=False)"
   ]
  },
  {
   "cell_type": "code",
   "execution_count": 30,
   "id": "02ad7ffd-6464-429a-a145-6a90a4f5f9c9",
   "metadata": {},
   "outputs": [
    {
     "data": {
      "text/html": [
       "<div>\n",
       "<style scoped>\n",
       "    .dataframe tbody tr th:only-of-type {\n",
       "        vertical-align: middle;\n",
       "    }\n",
       "\n",
       "    .dataframe tbody tr th {\n",
       "        vertical-align: top;\n",
       "    }\n",
       "\n",
       "    .dataframe thead th {\n",
       "        text-align: right;\n",
       "    }\n",
       "</style>\n",
       "<table border=\"1\" class=\"dataframe\">\n",
       "  <thead>\n",
       "    <tr style=\"text-align: right;\">\n",
       "      <th></th>\n",
       "      <th>Flight No.</th>\n",
       "      <th>Date</th>\n",
       "      <th>Time</th>\n",
       "      <th>Version Booster</th>\n",
       "      <th>Launch Site</th>\n",
       "      <th>Payload</th>\n",
       "      <th>Payload mass</th>\n",
       "      <th>Orbit</th>\n",
       "      <th>Customer</th>\n",
       "      <th>Launch outcome</th>\n",
       "      <th>Booster landing</th>\n",
       "    </tr>\n",
       "  </thead>\n",
       "  <tbody>\n",
       "    <tr>\n",
       "      <th>0</th>\n",
       "      <td>1</td>\n",
       "      <td>4 June 2010</td>\n",
       "      <td>18:45</td>\n",
       "      <td>F9 v1.07B0003.18</td>\n",
       "      <td>CCAFS</td>\n",
       "      <td>Dragon Spacecraft Qualification Unit</td>\n",
       "      <td>0</td>\n",
       "      <td>LEO</td>\n",
       "      <td>SpaceX</td>\n",
       "      <td>Success</td>\n",
       "      <td>Failure</td>\n",
       "    </tr>\n",
       "    <tr>\n",
       "      <th>1</th>\n",
       "      <td>2</td>\n",
       "      <td>8 December 2010</td>\n",
       "      <td>15:43</td>\n",
       "      <td>F9 v1.07B0004.18</td>\n",
       "      <td>CCAFS</td>\n",
       "      <td>Dragon</td>\n",
       "      <td>0</td>\n",
       "      <td>LEO</td>\n",
       "      <td>NASA</td>\n",
       "      <td>Success</td>\n",
       "      <td>Failure</td>\n",
       "    </tr>\n",
       "    <tr>\n",
       "      <th>2</th>\n",
       "      <td>3</td>\n",
       "      <td>22 May 2012</td>\n",
       "      <td>07:44</td>\n",
       "      <td>F9 v1.07B0005.18</td>\n",
       "      <td>CCAFS</td>\n",
       "      <td>Dragon</td>\n",
       "      <td>525 kg</td>\n",
       "      <td>LEO</td>\n",
       "      <td>NASA</td>\n",
       "      <td>Success</td>\n",
       "      <td>No attempt</td>\n",
       "    </tr>\n",
       "    <tr>\n",
       "      <th>3</th>\n",
       "      <td>4</td>\n",
       "      <td>8 October 2012</td>\n",
       "      <td>00:35</td>\n",
       "      <td>F9 v1.07B0006.18</td>\n",
       "      <td>CCAFS</td>\n",
       "      <td>SpaceX CRS-1</td>\n",
       "      <td>4,700 kg</td>\n",
       "      <td>LEO</td>\n",
       "      <td>NASA</td>\n",
       "      <td>Success</td>\n",
       "      <td>No attempt</td>\n",
       "    </tr>\n",
       "    <tr>\n",
       "      <th>4</th>\n",
       "      <td>5</td>\n",
       "      <td>1 March 2013</td>\n",
       "      <td>15:10</td>\n",
       "      <td>F9 v1.07B0007.18</td>\n",
       "      <td>CCAFS</td>\n",
       "      <td>SpaceX CRS-2</td>\n",
       "      <td>4,877 kg</td>\n",
       "      <td>LEO</td>\n",
       "      <td>NASA</td>\n",
       "      <td>Success</td>\n",
       "      <td>No attempt</td>\n",
       "    </tr>\n",
       "  </tbody>\n",
       "</table>\n",
       "</div>"
      ],
      "text/plain": [
       "  Flight No.             Date   Time   Version Booster Launch Site  \\\n",
       "0          1      4 June 2010  18:45  F9 v1.07B0003.18       CCAFS   \n",
       "1          2  8 December 2010  15:43  F9 v1.07B0004.18       CCAFS   \n",
       "2          3      22 May 2012  07:44  F9 v1.07B0005.18       CCAFS   \n",
       "3          4   8 October 2012  00:35  F9 v1.07B0006.18       CCAFS   \n",
       "4          5     1 March 2013  15:10  F9 v1.07B0007.18       CCAFS   \n",
       "\n",
       "                                Payload Payload mass Orbit Customer  \\\n",
       "0  Dragon Spacecraft Qualification Unit            0   LEO   SpaceX   \n",
       "1                                Dragon            0   LEO     NASA   \n",
       "2                                Dragon       525 kg   LEO     NASA   \n",
       "3                          SpaceX CRS-1     4,700 kg   LEO     NASA   \n",
       "4                          SpaceX CRS-2     4,877 kg   LEO     NASA   \n",
       "\n",
       "  Launch outcome Booster landing  \n",
       "0        Success         Failure  \n",
       "1        Success         Failure  \n",
       "2        Success      No attempt  \n",
       "3        Success      No attempt  \n",
       "4        Success      No attempt  "
      ]
     },
     "execution_count": 30,
     "metadata": {},
     "output_type": "execute_result"
    }
   ],
   "source": [
    "df.head()"
   ]
  },
  {
   "cell_type": "code",
   "execution_count": null,
   "id": "593f652b-5a96-40e6-9f61-7c398956476b",
   "metadata": {},
   "outputs": [],
   "source": []
  }
 ],
 "metadata": {
  "kernelspec": {
   "display_name": "Python 3 (ipykernel)",
   "language": "python",
   "name": "python3"
  },
  "language_info": {
   "codemirror_mode": {
    "name": "ipython",
    "version": 3
   },
   "file_extension": ".py",
   "mimetype": "text/x-python",
   "name": "python",
   "nbconvert_exporter": "python",
   "pygments_lexer": "ipython3",
   "version": "3.13.5"
  }
 },
 "nbformat": 4,
 "nbformat_minor": 5
}
