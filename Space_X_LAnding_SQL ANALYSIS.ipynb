{
 "cells": [
  {
   "cell_type": "markdown",
   "id": "233f9239-a546-4a3c-9132-09159f5e0a97",
   "metadata": {},
   "source": [
    "### Sql Analysis - SpaceX Dataset"
   ]
  },
  {
   "cell_type": "code",
   "execution_count": 14,
   "id": "41230902-47ae-4deb-8fa3-3b0f6794914d",
   "metadata": {},
   "outputs": [],
   "source": [
    "\n",
    "import pandas as pd\n",
    "import sqlite3\n",
    "con = sqlite3.connect(\"my_data1.db\")\n",
    "cur = con.cursor()"
   ]
  },
  {
   "cell_type": "code",
   "execution_count": 10,
   "id": "ffae9731-4e4b-4357-aa2a-101fd87507b6",
   "metadata": {},
   "outputs": [
    {
     "data": {
      "text/plain": [
       "101"
      ]
     },
     "execution_count": 10,
     "metadata": {},
     "output_type": "execute_result"
    }
   ],
   "source": [
    "df = pd.read_csv(\"https://cf-courses-data.s3.us.cloud-object-storage.appdomain.cloud/IBM-DS0321EN-SkillsNetwork/labs/module_2/data/Spacex.csv\")\n",
    "df.to_sql(\"SPACEXTBL\", con, if_exists='replace', index=False,method=\"multi\")"
   ]
  },
  {
   "cell_type": "code",
   "execution_count": 11,
   "id": "39fab903-5c98-4c54-b89e-8e7969bff3f2",
   "metadata": {},
   "outputs": [
    {
     "data": {
      "text/html": [
       "<div>\n",
       "<style scoped>\n",
       "    .dataframe tbody tr th:only-of-type {\n",
       "        vertical-align: middle;\n",
       "    }\n",
       "\n",
       "    .dataframe tbody tr th {\n",
       "        vertical-align: top;\n",
       "    }\n",
       "\n",
       "    .dataframe thead th {\n",
       "        text-align: right;\n",
       "    }\n",
       "</style>\n",
       "<table border=\"1\" class=\"dataframe\">\n",
       "  <thead>\n",
       "    <tr style=\"text-align: right;\">\n",
       "      <th></th>\n",
       "      <th>Date</th>\n",
       "      <th>Time (UTC)</th>\n",
       "      <th>Booster_Version</th>\n",
       "      <th>Launch_Site</th>\n",
       "      <th>Payload</th>\n",
       "      <th>PAYLOAD_MASS__KG_</th>\n",
       "      <th>Orbit</th>\n",
       "      <th>Customer</th>\n",
       "      <th>Mission_Outcome</th>\n",
       "      <th>Landing_Outcome</th>\n",
       "    </tr>\n",
       "  </thead>\n",
       "  <tbody>\n",
       "    <tr>\n",
       "      <th>0</th>\n",
       "      <td>2010-06-04</td>\n",
       "      <td>18:45:00</td>\n",
       "      <td>F9 v1.0  B0003</td>\n",
       "      <td>CCAFS LC-40</td>\n",
       "      <td>Dragon Spacecraft Qualification Unit</td>\n",
       "      <td>0</td>\n",
       "      <td>LEO</td>\n",
       "      <td>SpaceX</td>\n",
       "      <td>Success</td>\n",
       "      <td>Failure (parachute)</td>\n",
       "    </tr>\n",
       "    <tr>\n",
       "      <th>1</th>\n",
       "      <td>2010-12-08</td>\n",
       "      <td>15:43:00</td>\n",
       "      <td>F9 v1.0  B0004</td>\n",
       "      <td>CCAFS LC-40</td>\n",
       "      <td>Dragon demo flight C1, two CubeSats, barrel of...</td>\n",
       "      <td>0</td>\n",
       "      <td>LEO (ISS)</td>\n",
       "      <td>NASA (COTS) NRO</td>\n",
       "      <td>Success</td>\n",
       "      <td>Failure (parachute)</td>\n",
       "    </tr>\n",
       "    <tr>\n",
       "      <th>2</th>\n",
       "      <td>2012-05-22</td>\n",
       "      <td>7:44:00</td>\n",
       "      <td>F9 v1.0  B0005</td>\n",
       "      <td>CCAFS LC-40</td>\n",
       "      <td>Dragon demo flight C2</td>\n",
       "      <td>525</td>\n",
       "      <td>LEO (ISS)</td>\n",
       "      <td>NASA (COTS)</td>\n",
       "      <td>Success</td>\n",
       "      <td>No attempt</td>\n",
       "    </tr>\n",
       "    <tr>\n",
       "      <th>3</th>\n",
       "      <td>2012-10-08</td>\n",
       "      <td>0:35:00</td>\n",
       "      <td>F9 v1.0  B0006</td>\n",
       "      <td>CCAFS LC-40</td>\n",
       "      <td>SpaceX CRS-1</td>\n",
       "      <td>500</td>\n",
       "      <td>LEO (ISS)</td>\n",
       "      <td>NASA (CRS)</td>\n",
       "      <td>Success</td>\n",
       "      <td>No attempt</td>\n",
       "    </tr>\n",
       "    <tr>\n",
       "      <th>4</th>\n",
       "      <td>2013-03-01</td>\n",
       "      <td>15:10:00</td>\n",
       "      <td>F9 v1.0  B0007</td>\n",
       "      <td>CCAFS LC-40</td>\n",
       "      <td>SpaceX CRS-2</td>\n",
       "      <td>677</td>\n",
       "      <td>LEO (ISS)</td>\n",
       "      <td>NASA (CRS)</td>\n",
       "      <td>Success</td>\n",
       "      <td>No attempt</td>\n",
       "    </tr>\n",
       "  </tbody>\n",
       "</table>\n",
       "</div>"
      ],
      "text/plain": [
       "         Date Time (UTC) Booster_Version  Launch_Site  \\\n",
       "0  2010-06-04   18:45:00  F9 v1.0  B0003  CCAFS LC-40   \n",
       "1  2010-12-08   15:43:00  F9 v1.0  B0004  CCAFS LC-40   \n",
       "2  2012-05-22    7:44:00  F9 v1.0  B0005  CCAFS LC-40   \n",
       "3  2012-10-08    0:35:00  F9 v1.0  B0006  CCAFS LC-40   \n",
       "4  2013-03-01   15:10:00  F9 v1.0  B0007  CCAFS LC-40   \n",
       "\n",
       "                                             Payload  PAYLOAD_MASS__KG_  \\\n",
       "0               Dragon Spacecraft Qualification Unit                  0   \n",
       "1  Dragon demo flight C1, two CubeSats, barrel of...                  0   \n",
       "2                              Dragon demo flight C2                525   \n",
       "3                                       SpaceX CRS-1                500   \n",
       "4                                       SpaceX CRS-2                677   \n",
       "\n",
       "       Orbit         Customer Mission_Outcome      Landing_Outcome  \n",
       "0        LEO           SpaceX         Success  Failure (parachute)  \n",
       "1  LEO (ISS)  NASA (COTS) NRO         Success  Failure (parachute)  \n",
       "2  LEO (ISS)      NASA (COTS)         Success           No attempt  \n",
       "3  LEO (ISS)       NASA (CRS)         Success           No attempt  \n",
       "4  LEO (ISS)       NASA (CRS)         Success           No attempt  "
      ]
     },
     "execution_count": 11,
     "metadata": {},
     "output_type": "execute_result"
    }
   ],
   "source": [
    "df.head()"
   ]
  },
  {
   "cell_type": "markdown",
   "id": "34696a6a-66b6-49c2-987f-4c180850f28d",
   "metadata": {},
   "source": [
    "#### Select the  names of the unique launch sites in the space mission"
   ]
  },
  {
   "cell_type": "code",
   "execution_count": 16,
   "id": "d0ee7415-11df-48d5-9cbe-679c85c1afe3",
   "metadata": {},
   "outputs": [
    {
     "name": "stdout",
     "output_type": "stream",
     "text": [
      "    Launch_Site\n",
      "0   CCAFS LC-40\n",
      "1   VAFB SLC-4E\n",
      "2    KSC LC-39A\n",
      "3  CCAFS SLC-40\n"
     ]
    }
   ],
   "source": [
    "\n",
    "# Write a SQL query to select unique launch sites\n",
    "query = \"\"\"\n",
    "SELECT DISTINCT Launch_Site\n",
    "FROM SPACEXTBL;\n",
    "\"\"\"\n",
    "\n",
    "\n",
    "df_unique_sites = pd.read_sql_query(query, con)\n",
    "\n",
    "# Display the unique launch site names\n",
    "print(df_unique_sites)\n"
   ]
  },
  {
   "cell_type": "markdown",
   "id": "5846d0e9-371c-4d83-9a2c-1537bd05d760",
   "metadata": {},
   "source": [
    "### Display 5 records where launch sites begin with the string 'CCA'"
   ]
  },
  {
   "cell_type": "code",
   "execution_count": 20,
   "id": "f9e1c406-894a-4c82-908d-379d10710b41",
   "metadata": {},
   "outputs": [
    {
     "name": "stdout",
     "output_type": "stream",
     "text": [
      "         Date Time (UTC) Booster_Version  Launch_Site  \\\n",
      "0  2010-06-04   18:45:00  F9 v1.0  B0003  CCAFS LC-40   \n",
      "1  2010-12-08   15:43:00  F9 v1.0  B0004  CCAFS LC-40   \n",
      "2  2012-05-22    7:44:00  F9 v1.0  B0005  CCAFS LC-40   \n",
      "3  2012-10-08    0:35:00  F9 v1.0  B0006  CCAFS LC-40   \n",
      "4  2013-03-01   15:10:00  F9 v1.0  B0007  CCAFS LC-40   \n",
      "\n",
      "                                             Payload  PAYLOAD_MASS__KG_  \\\n",
      "0               Dragon Spacecraft Qualification Unit                  0   \n",
      "1  Dragon demo flight C1, two CubeSats, barrel of...                  0   \n",
      "2                              Dragon demo flight C2                525   \n",
      "3                                       SpaceX CRS-1                500   \n",
      "4                                       SpaceX CRS-2                677   \n",
      "\n",
      "       Orbit         Customer Mission_Outcome      Landing_Outcome  \n",
      "0        LEO           SpaceX         Success  Failure (parachute)  \n",
      "1  LEO (ISS)  NASA (COTS) NRO         Success  Failure (parachute)  \n",
      "2  LEO (ISS)      NASA (COTS)         Success           No attempt  \n",
      "3  LEO (ISS)       NASA (CRS)         Success           No attempt  \n",
      "4  LEO (ISS)       NASA (CRS)         Success           No attempt  \n"
     ]
    }
   ],
   "source": [
    "query = \"\"\"\n",
    "SELECT *\n",
    "FROM SPACEXTBL\n",
    "WHERE Launch_Site LIKE 'CCA%'\n",
    "LIMIT 5;\n",
    "\"\"\"\n",
    "\n",
    "\n",
    "df = pd.read_sql_query(query, con)\n",
    "print(df)\n"
   ]
  },
  {
   "cell_type": "markdown",
   "id": "84bd26e1-c533-4e1f-a8b5-b4590ecf6b0d",
   "metadata": {},
   "source": [
    "### Display the total payload mass carried by boosters launched by NASA (CRS)"
   ]
  },
  {
   "cell_type": "code",
   "execution_count": 22,
   "id": "b5984c81-fb65-44ad-bff3-748e88741eec",
   "metadata": {},
   "outputs": [
    {
     "name": "stdout",
     "output_type": "stream",
     "text": [
      "   Total_Payload_kg\n",
      "0             45596\n"
     ]
    }
   ],
   "source": [
    "query = \"\"\"\n",
    "SELECT SUM(Payload_Mass__kg_) AS Total_Payload_kg\n",
    "FROM SPACEXTBL\n",
    "WHERE Customer = 'NASA (CRS)';\n",
    "\"\"\"\n",
    "\n",
    "df = pd.read_sql_query(query, con)\n",
    "print(df)\n"
   ]
  },
  {
   "cell_type": "markdown",
   "id": "70ec4039-4f82-4baf-a370-285e9e625ff8",
   "metadata": {},
   "source": [
    "### Display average payload mass carried by booster version F9 v1.1"
   ]
  },
  {
   "cell_type": "code",
   "execution_count": 23,
   "id": "55081064-e6fc-4432-a7cc-dce03a3355a8",
   "metadata": {},
   "outputs": [
    {
     "name": "stdout",
     "output_type": "stream",
     "text": [
      "   Avg_Payload_kg\n",
      "0          2928.4\n"
     ]
    }
   ],
   "source": [
    "query = \"\"\"\n",
    "SELECT AVG(Payload_Mass__kg_) AS Avg_Payload_kg\n",
    "FROM SPACEXTBL\n",
    "WHERE Booster_Version = 'F9 v1.1';\n",
    "\"\"\"\n",
    "\n",
    "df = pd.read_sql_query(query, con)\n",
    "print(df)"
   ]
  },
  {
   "cell_type": "markdown",
   "id": "c35d575b-83ed-4462-a3f7-8fadd0092230",
   "metadata": {},
   "source": [
    "### List the date when the first succesful landing outcome in ground pad was acheived."
   ]
  },
  {
   "cell_type": "code",
   "execution_count": 24,
   "id": "599ababf-f185-4e94-97a4-2232fde0718c",
   "metadata": {},
   "outputs": [
    {
     "name": "stdout",
     "output_type": "stream",
     "text": [
      "         Date\n",
      "0  2015-12-22\n"
     ]
    }
   ],
   "source": [
    "query=\"\"\"\n",
    "Select Date \n",
    "From SPACEXTBL\n",
    "WHERE Landing_Outcome = 'Success (ground pad)'\n",
    "ORDER BY Date ASC\n",
    "LIMIT 1;\n",
    "\"\"\"\n",
    "\n",
    "df = pd.read_sql_query(query, con)\n",
    "print(df)"
   ]
  },
  {
   "cell_type": "markdown",
   "id": "d9f9b596-6219-4e47-bf63-a5caa7a6e666",
   "metadata": {},
   "source": [
    "### List names of the boosters which have success in drone ship and have payload mass greater than 4000 but less than 6000\n"
   ]
  },
  {
   "cell_type": "code",
   "execution_count": 25,
   "id": "1a184f37-983a-4ca2-aa4c-cbae14c19635",
   "metadata": {},
   "outputs": [
    {
     "name": "stdout",
     "output_type": "stream",
     "text": [
      "  Booster_Version\n",
      "0     F9 FT B1022\n",
      "1     F9 FT B1026\n",
      "2  F9 FT  B1021.2\n",
      "3  F9 FT  B1031.2\n"
     ]
    }
   ],
   "source": [
    "query = \"\"\"\n",
    "SELECT DISTINCT Booster_Version\n",
    "FROM SPACEXTBL\n",
    "WHERE Landing_Outcome = 'Success (drone ship)'\n",
    "  AND Payload_Mass__kg_ > 4000\n",
    "  AND Payload_Mass__kg_ < 6000;\n",
    "\"\"\"\n",
    "\n",
    "df = pd.read_sql_query(query, con)\n",
    "print(df)"
   ]
  },
  {
   "cell_type": "markdown",
   "id": "23043cc0-a403-4d25-a3db-bbcd2b2440d7",
   "metadata": {},
   "source": [
    "### List the total number of successful and failure mission outcomes"
   ]
  },
  {
   "cell_type": "code",
   "execution_count": 26,
   "id": "b79eac01-9d9e-4b9e-8772-8a034e5d6f99",
   "metadata": {},
   "outputs": [
    {
     "name": "stdout",
     "output_type": "stream",
     "text": [
      "                    Mission_Outcome  Total\n",
      "0               Failure (in flight)      1\n",
      "1                           Success     98\n",
      "2                          Success       1\n",
      "3  Success (payload status unclear)      1\n"
     ]
    }
   ],
   "source": [
    "query = \"\"\"\n",
    "SELECT Mission_Outcome, COUNT(*) AS Total\n",
    "FROM SPACEXTBL\n",
    "GROUP BY Mission_Outcome;\n",
    "\"\"\"\n",
    "\n",
    "df = pd.read_sql_query(query, con)\n",
    "print(df)"
   ]
  },
  {
   "cell_type": "markdown",
   "id": "ca16c543-0d54-465f-a368-d124431e987a",
   "metadata": {},
   "source": [
    "### List all the booster_versions that have carried the maximum payload mass, using a subquery with a suitable aggregate function."
   ]
  },
  {
   "cell_type": "code",
   "execution_count": 27,
   "id": "21b56271-0bc1-48a6-9efe-2ed97e491838",
   "metadata": {},
   "outputs": [
    {
     "name": "stdout",
     "output_type": "stream",
     "text": [
      "   Booster_Version  PAYLOAD_MASS__KG_\n",
      "0    F9 B5 B1048.4              15600\n",
      "1    F9 B5 B1049.4              15600\n",
      "2    F9 B5 B1051.3              15600\n",
      "3    F9 B5 B1056.4              15600\n",
      "4    F9 B5 B1048.5              15600\n",
      "5    F9 B5 B1051.4              15600\n",
      "6    F9 B5 B1049.5              15600\n",
      "7   F9 B5 B1060.2               15600\n",
      "8   F9 B5 B1058.3               15600\n",
      "9    F9 B5 B1051.6              15600\n",
      "10   F9 B5 B1060.3              15600\n",
      "11  F9 B5 B1049.7               15600\n"
     ]
    }
   ],
   "source": [
    "query = \"\"\"\n",
    "SELECT Booster_Version, Payload_Mass__kg_\n",
    "FROM SPACEXTBL\n",
    "WHERE Payload_Mass__kg_ = (\n",
    "    SELECT MAX(Payload_Mass__kg_)\n",
    "    FROM SPACEXTBL\n",
    ");\n",
    "\"\"\"\n",
    "\n",
    "df = pd.read_sql_query(query, con)\n",
    "print(df)"
   ]
  },
  {
   "cell_type": "markdown",
   "id": "225ee559-f6e3-4867-a350-4e766b74b1fe",
   "metadata": {},
   "source": [
    "### all booster versions that carried the maximum payload mass "
   ]
  },
  {
   "cell_type": "code",
   "execution_count": 28,
   "id": "4ca27885-84aa-45df-b882-112b4a58af81",
   "metadata": {},
   "outputs": [
    {
     "name": "stdout",
     "output_type": "stream",
     "text": [
      "   Booster_Version  PAYLOAD_MASS__KG_\n",
      "0    F9 B5 B1048.4              15600\n",
      "1    F9 B5 B1049.4              15600\n",
      "2    F9 B5 B1051.3              15600\n",
      "3    F9 B5 B1056.4              15600\n",
      "4    F9 B5 B1048.5              15600\n",
      "5    F9 B5 B1051.4              15600\n",
      "6    F9 B5 B1049.5              15600\n",
      "7   F9 B5 B1060.2               15600\n",
      "8   F9 B5 B1058.3               15600\n",
      "9    F9 B5 B1051.6              15600\n",
      "10   F9 B5 B1060.3              15600\n",
      "11  F9 B5 B1049.7               15600\n"
     ]
    }
   ],
   "source": [
    "query = \"\"\"\n",
    "SELECT Booster_Version, Payload_Mass__kg_\n",
    "FROM SPACEXTBL\n",
    "WHERE Payload_Mass__kg_ = (\n",
    "    SELECT MAX(Payload_Mass__kg_)\n",
    "    FROM SPACEXTBL\n",
    ");\n",
    "\"\"\"\n",
    "\n",
    "df = pd.read_sql_query(query, con)\n",
    "print(df)"
   ]
  },
  {
   "cell_type": "markdown",
   "id": "e14a16c0-f177-4e77-a2c7-7bc6ea797589",
   "metadata": {},
   "source": [
    "#### Rank the count of landing outcomes (such as Failure (drone ship) or Success (ground pad)) between the date 2010-06-04 and 2017-03-20, in descending order."
   ]
  },
  {
   "cell_type": "code",
   "execution_count": 29,
   "id": "acd7d611-4373-4eab-b6db-9ffbc8fe7920",
   "metadata": {},
   "outputs": [
    {
     "name": "stdout",
     "output_type": "stream",
     "text": [
      "          Landing_Outcome  Outcome_Count\n",
      "0              No attempt             10\n",
      "1    Success (drone ship)              5\n",
      "2    Failure (drone ship)              5\n",
      "3    Success (ground pad)              3\n",
      "4      Controlled (ocean)              3\n",
      "5    Uncontrolled (ocean)              2\n",
      "6     Failure (parachute)              2\n",
      "7  Precluded (drone ship)              1\n"
     ]
    }
   ],
   "source": [
    "query = \"\"\"\n",
    "SELECT Landing_Outcome, COUNT(*) AS Outcome_Count\n",
    "FROM SPACEXTBL\n",
    "WHERE Date BETWEEN '2010-06-04' AND '2017-03-20'\n",
    "GROUP BY Landing_Outcome\n",
    "ORDER BY Outcome_Count DESC;\n",
    "\"\"\"\n",
    "\n",
    "df = pd.read_sql_query(query, con)\n",
    "print(df)\n"
   ]
  },
  {
   "cell_type": "code",
   "execution_count": null,
   "id": "739cf8a1-2dd4-4137-a134-11a3e48da33f",
   "metadata": {},
   "outputs": [],
   "source": []
  }
 ],
 "metadata": {
  "kernelspec": {
   "display_name": "Python 3 (ipykernel)",
   "language": "python",
   "name": "python3"
  },
  "language_info": {
   "codemirror_mode": {
    "name": "ipython",
    "version": 3
   },
   "file_extension": ".py",
   "mimetype": "text/x-python",
   "name": "python",
   "nbconvert_exporter": "python",
   "pygments_lexer": "ipython3",
   "version": "3.13.5"
  }
 },
 "nbformat": 4,
 "nbformat_minor": 5
}
